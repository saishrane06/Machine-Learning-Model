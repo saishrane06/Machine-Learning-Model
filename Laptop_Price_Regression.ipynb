{
  "nbformat": 4,
  "nbformat_minor": 0,
  "metadata": {
    "colab": {
      "name": "Laptop_Price_Regression.ipynb",
      "provenance": [],
      "authorship_tag": "ABX9TyOJ2/xxhGUFAtoWcxUi6Q+n",
      "include_colab_link": true
    },
    "kernelspec": {
      "name": "python3",
      "display_name": "Python 3"
    },
    "language_info": {
      "name": "python"
    }
  },
  "cells": [
    {
      "cell_type": "markdown",
      "metadata": {
        "id": "view-in-github",
        "colab_type": "text"
      },
      "source": [
        "<a href=\"https://colab.research.google.com/github/saishrane06/Machine-Learning-Model/blob/main/Laptop_Price_Regression.ipynb\" target=\"_parent\"><img src=\"https://colab.research.google.com/assets/colab-badge.svg\" alt=\"Open In Colab\"/></a>"
      ]
    },
    {
      "cell_type": "code",
      "execution_count": 1,
      "metadata": {
        "colab": {
          "base_uri": "https://localhost:8080/"
        },
        "id": "CTygdrpNsjj5",
        "outputId": "fda7a326-d18d-4fb0-b927-026b1c51b09c"
      },
      "outputs": [
        {
          "output_type": "stream",
          "name": "stdout",
          "text": [
            "Downloading laptop-price.zip to /content\n",
            "\r  0% 0.00/28.0k [00:00<?, ?B/s]\n",
            "\r100% 28.0k/28.0k [00:00<00:00, 17.5MB/s]\n"
          ]
        }
      ],
      "source": [
        "! mkdir ~/.kaggle\n",
        "! cp kaggle.json ~/.kaggle/\n",
        "! chmod 600 ~/.kaggle/kaggle.json\n",
        "! kaggle datasets download muhammetvarl/laptop-price"
      ]
    },
    {
      "cell_type": "code",
      "source": [
        "! unzip laptop-price.zip"
      ],
      "metadata": {
        "colab": {
          "base_uri": "https://localhost:8080/"
        },
        "id": "vWmHGYl-slsQ",
        "outputId": "a23aa05f-e1e6-4a3e-ccae-599602a30883"
      },
      "execution_count": 2,
      "outputs": [
        {
          "output_type": "stream",
          "name": "stdout",
          "text": [
            "Archive:  laptop-price.zip\n",
            "  inflating: laptop_price.csv        \n"
          ]
        }
      ]
    },
    {
      "cell_type": "code",
      "source": [
        "import pandas as pd\n",
        "import numpy as np\n",
        "import matplotlib.pyplot as plt\n",
        "%matplotlib inline\n",
        "import seaborn as sns"
      ],
      "metadata": {
        "id": "9fLL5fORs_iy"
      },
      "execution_count": 3,
      "outputs": []
    },
    {
      "cell_type": "code",
      "source": [
        ""
      ],
      "metadata": {
        "id": "_xynfiW2tBYf"
      },
      "execution_count": null,
      "outputs": []
    }
  ]
}